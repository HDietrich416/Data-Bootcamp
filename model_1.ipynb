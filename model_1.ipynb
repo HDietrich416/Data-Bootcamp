{
  "nbformat": 4,
  "nbformat_minor": 0,
  "metadata": {
    "kernel_info": {
      "name": "dev"
    },
    "kernelspec": {
      "display_name": "Python [conda root]",
      "language": "python",
      "name": "conda-root-py"
    },
    "language_info": {
      "codemirror_mode": {
        "name": "ipython",
        "version": 3
      },
      "file_extension": ".py",
      "mimetype": "text/x-python",
      "name": "python",
      "nbconvert_exporter": "python",
      "pygments_lexer": "ipython3",
      "version": "3.6.8"
    },
    "nteract": {
      "version": "0.12.3"
    },
    "colab": {
      "name": "model_1.ipynb",
      "provenance": [],
      "include_colab_link": true
    }
  },
  "cells": [
    {
      "cell_type": "markdown",
      "metadata": {
        "id": "view-in-github",
        "colab_type": "text"
      },
      "source": [
        "<a href=\"https://colab.research.google.com/github/HDietrich416/Data-Bootcamp/blob/master/model_1.ipynb\" target=\"_parent\"><img src=\"https://colab.research.google.com/assets/colab-badge.svg\" alt=\"Open In Colab\"/></a>"
      ]
    },
    {
      "cell_type": "code",
      "metadata": {
        "colab": {
          "base_uri": "https://localhost:8080/"
        },
        "id": "yOVE8g2XC4Le",
        "outputId": "59484d57-68df-4cbb-b56c-b897969497e3"
      },
      "source": [
        "# Update sklearn to prevent version mismatches\n",
        "!pip install sklearn --upgrade"
      ],
      "execution_count": 1,
      "outputs": [
        {
          "output_type": "stream",
          "text": [
            "Requirement already up-to-date: sklearn in /usr/local/lib/python3.7/dist-packages (0.0)\n",
            "Requirement already satisfied, skipping upgrade: scikit-learn in /usr/local/lib/python3.7/dist-packages (from sklearn) (0.22.2.post1)\n",
            "Requirement already satisfied, skipping upgrade: joblib>=0.11 in /usr/local/lib/python3.7/dist-packages (from scikit-learn->sklearn) (1.0.1)\n",
            "Requirement already satisfied, skipping upgrade: scipy>=0.17.0 in /usr/local/lib/python3.7/dist-packages (from scikit-learn->sklearn) (1.4.1)\n",
            "Requirement already satisfied, skipping upgrade: numpy>=1.11.0 in /usr/local/lib/python3.7/dist-packages (from scikit-learn->sklearn) (1.19.5)\n"
          ],
          "name": "stdout"
        }
      ]
    },
    {
      "cell_type": "code",
      "metadata": {
        "colab": {
          "base_uri": "https://localhost:8080/"
        },
        "id": "XQ9bA4aMC4Lk",
        "outputId": "a44b815a-7e00-409c-9820-84b612f1e6de"
      },
      "source": [
        "# install joblib. This will be used to save your model. \n",
        "# Restart your kernel after installing \n",
        "!pip install joblib"
      ],
      "execution_count": 2,
      "outputs": [
        {
          "output_type": "stream",
          "text": [
            "Requirement already satisfied: joblib in /usr/local/lib/python3.7/dist-packages (1.0.1)\n"
          ],
          "name": "stdout"
        }
      ]
    },
    {
      "cell_type": "code",
      "metadata": {
        "id": "xKFz7UsiC4Ll"
      },
      "source": [
        "import pandas as pd\r\n",
        "from sklearn.model_selection import train_test_split, GridSearchCV\r\n",
        "from sklearn.preprocessing import MinMaxScaler\r\n",
        "from sklearn.linear_model import LogisticRegression\r\n",
        "from sklearn.feature_selection import RFECV\r\n",
        "import joblib"
      ],
      "execution_count": 9,
      "outputs": []
    },
    {
      "cell_type": "markdown",
      "metadata": {
        "id": "Vioag-g6C4Lm"
      },
      "source": [
        "# Read the CSV and Perform Basic Data Cleaning"
      ]
    },
    {
      "cell_type": "code",
      "metadata": {
        "colab": {
          "base_uri": "https://localhost:8080/",
          "height": 222
        },
        "id": "jb9ZwhygC4Ln",
        "outputId": "4ab82d78-88eb-4586-d410-ffd3ce7453e1"
      },
      "source": [
        "df = pd.read_csv(\"exoplanet_data.csv\")\n",
        "# Drop the null columns where all values are null\n",
        "df = df.dropna(axis='columns', how='all')\n",
        "# Drop the null rows\n",
        "df = df.dropna()\n",
        "df.head()"
      ],
      "execution_count": 4,
      "outputs": [
        {
          "output_type": "execute_result",
          "data": {
            "text/html": [
              "<div>\n",
              "<style scoped>\n",
              "    .dataframe tbody tr th:only-of-type {\n",
              "        vertical-align: middle;\n",
              "    }\n",
              "\n",
              "    .dataframe tbody tr th {\n",
              "        vertical-align: top;\n",
              "    }\n",
              "\n",
              "    .dataframe thead th {\n",
              "        text-align: right;\n",
              "    }\n",
              "</style>\n",
              "<table border=\"1\" class=\"dataframe\">\n",
              "  <thead>\n",
              "    <tr style=\"text-align: right;\">\n",
              "      <th></th>\n",
              "      <th>koi_disposition</th>\n",
              "      <th>koi_fpflag_nt</th>\n",
              "      <th>koi_fpflag_ss</th>\n",
              "      <th>koi_fpflag_co</th>\n",
              "      <th>koi_fpflag_ec</th>\n",
              "      <th>koi_period</th>\n",
              "      <th>koi_period_err1</th>\n",
              "      <th>koi_period_err2</th>\n",
              "      <th>koi_time0bk</th>\n",
              "      <th>koi_time0bk_err1</th>\n",
              "      <th>koi_time0bk_err2</th>\n",
              "      <th>koi_impact</th>\n",
              "      <th>koi_impact_err1</th>\n",
              "      <th>koi_impact_err2</th>\n",
              "      <th>koi_duration</th>\n",
              "      <th>koi_duration_err1</th>\n",
              "      <th>koi_duration_err2</th>\n",
              "      <th>koi_depth</th>\n",
              "      <th>koi_depth_err1</th>\n",
              "      <th>koi_depth_err2</th>\n",
              "      <th>koi_prad</th>\n",
              "      <th>koi_prad_err1</th>\n",
              "      <th>koi_prad_err2</th>\n",
              "      <th>koi_teq</th>\n",
              "      <th>koi_insol</th>\n",
              "      <th>koi_insol_err1</th>\n",
              "      <th>koi_insol_err2</th>\n",
              "      <th>koi_model_snr</th>\n",
              "      <th>koi_tce_plnt_num</th>\n",
              "      <th>koi_steff</th>\n",
              "      <th>koi_steff_err1</th>\n",
              "      <th>koi_steff_err2</th>\n",
              "      <th>koi_slogg</th>\n",
              "      <th>koi_slogg_err1</th>\n",
              "      <th>koi_slogg_err2</th>\n",
              "      <th>koi_srad</th>\n",
              "      <th>koi_srad_err1</th>\n",
              "      <th>koi_srad_err2</th>\n",
              "      <th>ra</th>\n",
              "      <th>dec</th>\n",
              "      <th>koi_kepmag</th>\n",
              "    </tr>\n",
              "  </thead>\n",
              "  <tbody>\n",
              "    <tr>\n",
              "      <th>0</th>\n",
              "      <td>CONFIRMED</td>\n",
              "      <td>0</td>\n",
              "      <td>0</td>\n",
              "      <td>0</td>\n",
              "      <td>0</td>\n",
              "      <td>54.418383</td>\n",
              "      <td>2.479000e-04</td>\n",
              "      <td>-2.479000e-04</td>\n",
              "      <td>162.513840</td>\n",
              "      <td>0.003520</td>\n",
              "      <td>-0.003520</td>\n",
              "      <td>0.586</td>\n",
              "      <td>0.059</td>\n",
              "      <td>-0.443</td>\n",
              "      <td>4.50700</td>\n",
              "      <td>0.11600</td>\n",
              "      <td>-0.11600</td>\n",
              "      <td>874.8</td>\n",
              "      <td>35.5</td>\n",
              "      <td>-35.5</td>\n",
              "      <td>2.83</td>\n",
              "      <td>0.32</td>\n",
              "      <td>-0.19</td>\n",
              "      <td>443</td>\n",
              "      <td>9.11</td>\n",
              "      <td>2.87</td>\n",
              "      <td>-1.62</td>\n",
              "      <td>25.8</td>\n",
              "      <td>2</td>\n",
              "      <td>5455</td>\n",
              "      <td>81</td>\n",
              "      <td>-81</td>\n",
              "      <td>4.467</td>\n",
              "      <td>0.064</td>\n",
              "      <td>-0.096</td>\n",
              "      <td>0.927</td>\n",
              "      <td>0.105</td>\n",
              "      <td>-0.061</td>\n",
              "      <td>291.93423</td>\n",
              "      <td>48.141651</td>\n",
              "      <td>15.347</td>\n",
              "    </tr>\n",
              "    <tr>\n",
              "      <th>1</th>\n",
              "      <td>FALSE POSITIVE</td>\n",
              "      <td>0</td>\n",
              "      <td>1</td>\n",
              "      <td>0</td>\n",
              "      <td>0</td>\n",
              "      <td>19.899140</td>\n",
              "      <td>1.490000e-05</td>\n",
              "      <td>-1.490000e-05</td>\n",
              "      <td>175.850252</td>\n",
              "      <td>0.000581</td>\n",
              "      <td>-0.000581</td>\n",
              "      <td>0.969</td>\n",
              "      <td>5.126</td>\n",
              "      <td>-0.077</td>\n",
              "      <td>1.78220</td>\n",
              "      <td>0.03410</td>\n",
              "      <td>-0.03410</td>\n",
              "      <td>10829.0</td>\n",
              "      <td>171.0</td>\n",
              "      <td>-171.0</td>\n",
              "      <td>14.60</td>\n",
              "      <td>3.92</td>\n",
              "      <td>-1.31</td>\n",
              "      <td>638</td>\n",
              "      <td>39.30</td>\n",
              "      <td>31.04</td>\n",
              "      <td>-10.49</td>\n",
              "      <td>76.3</td>\n",
              "      <td>1</td>\n",
              "      <td>5853</td>\n",
              "      <td>158</td>\n",
              "      <td>-176</td>\n",
              "      <td>4.544</td>\n",
              "      <td>0.044</td>\n",
              "      <td>-0.176</td>\n",
              "      <td>0.868</td>\n",
              "      <td>0.233</td>\n",
              "      <td>-0.078</td>\n",
              "      <td>297.00482</td>\n",
              "      <td>48.134129</td>\n",
              "      <td>15.436</td>\n",
              "    </tr>\n",
              "    <tr>\n",
              "      <th>2</th>\n",
              "      <td>FALSE POSITIVE</td>\n",
              "      <td>0</td>\n",
              "      <td>1</td>\n",
              "      <td>0</td>\n",
              "      <td>0</td>\n",
              "      <td>1.736952</td>\n",
              "      <td>2.630000e-07</td>\n",
              "      <td>-2.630000e-07</td>\n",
              "      <td>170.307565</td>\n",
              "      <td>0.000115</td>\n",
              "      <td>-0.000115</td>\n",
              "      <td>1.276</td>\n",
              "      <td>0.115</td>\n",
              "      <td>-0.092</td>\n",
              "      <td>2.40641</td>\n",
              "      <td>0.00537</td>\n",
              "      <td>-0.00537</td>\n",
              "      <td>8079.2</td>\n",
              "      <td>12.8</td>\n",
              "      <td>-12.8</td>\n",
              "      <td>33.46</td>\n",
              "      <td>8.50</td>\n",
              "      <td>-2.83</td>\n",
              "      <td>1395</td>\n",
              "      <td>891.96</td>\n",
              "      <td>668.95</td>\n",
              "      <td>-230.35</td>\n",
              "      <td>505.6</td>\n",
              "      <td>1</td>\n",
              "      <td>5805</td>\n",
              "      <td>157</td>\n",
              "      <td>-174</td>\n",
              "      <td>4.564</td>\n",
              "      <td>0.053</td>\n",
              "      <td>-0.168</td>\n",
              "      <td>0.791</td>\n",
              "      <td>0.201</td>\n",
              "      <td>-0.067</td>\n",
              "      <td>285.53461</td>\n",
              "      <td>48.285210</td>\n",
              "      <td>15.597</td>\n",
              "    </tr>\n",
              "    <tr>\n",
              "      <th>3</th>\n",
              "      <td>CONFIRMED</td>\n",
              "      <td>0</td>\n",
              "      <td>0</td>\n",
              "      <td>0</td>\n",
              "      <td>0</td>\n",
              "      <td>2.525592</td>\n",
              "      <td>3.760000e-06</td>\n",
              "      <td>-3.760000e-06</td>\n",
              "      <td>171.595550</td>\n",
              "      <td>0.001130</td>\n",
              "      <td>-0.001130</td>\n",
              "      <td>0.701</td>\n",
              "      <td>0.235</td>\n",
              "      <td>-0.478</td>\n",
              "      <td>1.65450</td>\n",
              "      <td>0.04200</td>\n",
              "      <td>-0.04200</td>\n",
              "      <td>603.3</td>\n",
              "      <td>16.9</td>\n",
              "      <td>-16.9</td>\n",
              "      <td>2.75</td>\n",
              "      <td>0.88</td>\n",
              "      <td>-0.35</td>\n",
              "      <td>1406</td>\n",
              "      <td>926.16</td>\n",
              "      <td>874.33</td>\n",
              "      <td>-314.24</td>\n",
              "      <td>40.9</td>\n",
              "      <td>1</td>\n",
              "      <td>6031</td>\n",
              "      <td>169</td>\n",
              "      <td>-211</td>\n",
              "      <td>4.438</td>\n",
              "      <td>0.070</td>\n",
              "      <td>-0.210</td>\n",
              "      <td>1.046</td>\n",
              "      <td>0.334</td>\n",
              "      <td>-0.133</td>\n",
              "      <td>288.75488</td>\n",
              "      <td>48.226200</td>\n",
              "      <td>15.509</td>\n",
              "    </tr>\n",
              "    <tr>\n",
              "      <th>4</th>\n",
              "      <td>CONFIRMED</td>\n",
              "      <td>0</td>\n",
              "      <td>0</td>\n",
              "      <td>0</td>\n",
              "      <td>0</td>\n",
              "      <td>4.134435</td>\n",
              "      <td>1.050000e-05</td>\n",
              "      <td>-1.050000e-05</td>\n",
              "      <td>172.979370</td>\n",
              "      <td>0.001900</td>\n",
              "      <td>-0.001900</td>\n",
              "      <td>0.762</td>\n",
              "      <td>0.139</td>\n",
              "      <td>-0.532</td>\n",
              "      <td>3.14020</td>\n",
              "      <td>0.06730</td>\n",
              "      <td>-0.06730</td>\n",
              "      <td>686.0</td>\n",
              "      <td>18.7</td>\n",
              "      <td>-18.7</td>\n",
              "      <td>2.77</td>\n",
              "      <td>0.90</td>\n",
              "      <td>-0.30</td>\n",
              "      <td>1160</td>\n",
              "      <td>427.65</td>\n",
              "      <td>420.33</td>\n",
              "      <td>-136.70</td>\n",
              "      <td>40.2</td>\n",
              "      <td>2</td>\n",
              "      <td>6046</td>\n",
              "      <td>189</td>\n",
              "      <td>-232</td>\n",
              "      <td>4.486</td>\n",
              "      <td>0.054</td>\n",
              "      <td>-0.229</td>\n",
              "      <td>0.972</td>\n",
              "      <td>0.315</td>\n",
              "      <td>-0.105</td>\n",
              "      <td>296.28613</td>\n",
              "      <td>48.224670</td>\n",
              "      <td>15.714</td>\n",
              "    </tr>\n",
              "  </tbody>\n",
              "</table>\n",
              "</div>"
            ],
            "text/plain": [
              "  koi_disposition  koi_fpflag_nt  ...        dec  koi_kepmag\n",
              "0       CONFIRMED              0  ...  48.141651      15.347\n",
              "1  FALSE POSITIVE              0  ...  48.134129      15.436\n",
              "2  FALSE POSITIVE              0  ...  48.285210      15.597\n",
              "3       CONFIRMED              0  ...  48.226200      15.509\n",
              "4       CONFIRMED              0  ...  48.224670      15.714\n",
              "\n",
              "[5 rows x 41 columns]"
            ]
          },
          "metadata": {
            "tags": []
          },
          "execution_count": 4
        }
      ]
    },
    {
      "cell_type": "markdown",
      "metadata": {
        "id": "oBcVRDZQC4Ln"
      },
      "source": [
        "# Select your features (columns)"
      ]
    },
    {
      "cell_type": "code",
      "metadata": {
        "id": "izwRf0sfC4Ln"
      },
      "source": [
        "# Set features. This will also be used as your x values.\n",
        "X = df.drop(\"koi_disposition\", axis=1)\n",
        "y = df[\"koi_disposition\"]"
      ],
      "execution_count": 7,
      "outputs": []
    },
    {
      "cell_type": "markdown",
      "metadata": {
        "id": "2lXNsKeLC4Lo"
      },
      "source": [
        "# Create a Train Test Split\n",
        "\n",
        "Use `koi_disposition` for the y values"
      ]
    },
    {
      "cell_type": "code",
      "metadata": {
        "id": "8ajLKyBPC4Lo"
      },
      "source": [
        "X_train, X_test, y_train, y_test = train_test_split(X, y, random_state=42)"
      ],
      "execution_count": 10,
      "outputs": []
    },
    {
      "cell_type": "code",
      "metadata": {
        "colab": {
          "base_uri": "https://localhost:8080/",
          "height": 222
        },
        "id": "MbglvC6JC4Lo",
        "outputId": "373064b6-4532-44b9-daed-e5e45ce4aacb"
      },
      "source": [
        "X_train.head()"
      ],
      "execution_count": 11,
      "outputs": [
        {
          "output_type": "execute_result",
          "data": {
            "text/html": [
              "<div>\n",
              "<style scoped>\n",
              "    .dataframe tbody tr th:only-of-type {\n",
              "        vertical-align: middle;\n",
              "    }\n",
              "\n",
              "    .dataframe tbody tr th {\n",
              "        vertical-align: top;\n",
              "    }\n",
              "\n",
              "    .dataframe thead th {\n",
              "        text-align: right;\n",
              "    }\n",
              "</style>\n",
              "<table border=\"1\" class=\"dataframe\">\n",
              "  <thead>\n",
              "    <tr style=\"text-align: right;\">\n",
              "      <th></th>\n",
              "      <th>koi_fpflag_nt</th>\n",
              "      <th>koi_fpflag_ss</th>\n",
              "      <th>koi_fpflag_co</th>\n",
              "      <th>koi_fpflag_ec</th>\n",
              "      <th>koi_period</th>\n",
              "      <th>koi_period_err1</th>\n",
              "      <th>koi_period_err2</th>\n",
              "      <th>koi_time0bk</th>\n",
              "      <th>koi_time0bk_err1</th>\n",
              "      <th>koi_time0bk_err2</th>\n",
              "      <th>koi_impact</th>\n",
              "      <th>koi_impact_err1</th>\n",
              "      <th>koi_impact_err2</th>\n",
              "      <th>koi_duration</th>\n",
              "      <th>koi_duration_err1</th>\n",
              "      <th>koi_duration_err2</th>\n",
              "      <th>koi_depth</th>\n",
              "      <th>koi_depth_err1</th>\n",
              "      <th>koi_depth_err2</th>\n",
              "      <th>koi_prad</th>\n",
              "      <th>koi_prad_err1</th>\n",
              "      <th>koi_prad_err2</th>\n",
              "      <th>koi_teq</th>\n",
              "      <th>koi_insol</th>\n",
              "      <th>koi_insol_err1</th>\n",
              "      <th>koi_insol_err2</th>\n",
              "      <th>koi_model_snr</th>\n",
              "      <th>koi_tce_plnt_num</th>\n",
              "      <th>koi_steff</th>\n",
              "      <th>koi_steff_err1</th>\n",
              "      <th>koi_steff_err2</th>\n",
              "      <th>koi_slogg</th>\n",
              "      <th>koi_slogg_err1</th>\n",
              "      <th>koi_slogg_err2</th>\n",
              "      <th>koi_srad</th>\n",
              "      <th>koi_srad_err1</th>\n",
              "      <th>koi_srad_err2</th>\n",
              "      <th>ra</th>\n",
              "      <th>dec</th>\n",
              "      <th>koi_kepmag</th>\n",
              "    </tr>\n",
              "  </thead>\n",
              "  <tbody>\n",
              "    <tr>\n",
              "      <th>6122</th>\n",
              "      <td>0</td>\n",
              "      <td>0</td>\n",
              "      <td>0</td>\n",
              "      <td>0</td>\n",
              "      <td>6.768901</td>\n",
              "      <td>7.380000e-05</td>\n",
              "      <td>-7.380000e-05</td>\n",
              "      <td>133.077240</td>\n",
              "      <td>0.008440</td>\n",
              "      <td>-0.008440</td>\n",
              "      <td>0.150</td>\n",
              "      <td>0.305</td>\n",
              "      <td>-0.150</td>\n",
              "      <td>3.61600</td>\n",
              "      <td>0.3060</td>\n",
              "      <td>-0.3060</td>\n",
              "      <td>123.1</td>\n",
              "      <td>13.2</td>\n",
              "      <td>-13.2</td>\n",
              "      <td>1.24</td>\n",
              "      <td>0.34</td>\n",
              "      <td>-0.23</td>\n",
              "      <td>1017</td>\n",
              "      <td>253.30</td>\n",
              "      <td>204.89</td>\n",
              "      <td>-103.87</td>\n",
              "      <td>10.8</td>\n",
              "      <td>1</td>\n",
              "      <td>5737</td>\n",
              "      <td>154</td>\n",
              "      <td>-171</td>\n",
              "      <td>4.327</td>\n",
              "      <td>0.153</td>\n",
              "      <td>-0.187</td>\n",
              "      <td>1.125</td>\n",
              "      <td>0.310</td>\n",
              "      <td>-0.207</td>\n",
              "      <td>294.40472</td>\n",
              "      <td>39.351681</td>\n",
              "      <td>14.725</td>\n",
              "    </tr>\n",
              "    <tr>\n",
              "      <th>6370</th>\n",
              "      <td>0</td>\n",
              "      <td>1</td>\n",
              "      <td>0</td>\n",
              "      <td>1</td>\n",
              "      <td>0.733726</td>\n",
              "      <td>6.060000e-06</td>\n",
              "      <td>-6.060000e-06</td>\n",
              "      <td>132.020050</td>\n",
              "      <td>0.007950</td>\n",
              "      <td>-0.007950</td>\n",
              "      <td>0.291</td>\n",
              "      <td>0.193</td>\n",
              "      <td>-0.291</td>\n",
              "      <td>2.30900</td>\n",
              "      <td>0.2820</td>\n",
              "      <td>-0.2820</td>\n",
              "      <td>114.6</td>\n",
              "      <td>9.3</td>\n",
              "      <td>-9.3</td>\n",
              "      <td>0.86</td>\n",
              "      <td>0.23</td>\n",
              "      <td>-0.06</td>\n",
              "      <td>1867</td>\n",
              "      <td>2891.64</td>\n",
              "      <td>2253.61</td>\n",
              "      <td>-677.78</td>\n",
              "      <td>13.8</td>\n",
              "      <td>1</td>\n",
              "      <td>5855</td>\n",
              "      <td>158</td>\n",
              "      <td>-175</td>\n",
              "      <td>4.578</td>\n",
              "      <td>0.033</td>\n",
              "      <td>-0.187</td>\n",
              "      <td>0.797</td>\n",
              "      <td>0.211</td>\n",
              "      <td>-0.056</td>\n",
              "      <td>284.50391</td>\n",
              "      <td>42.463860</td>\n",
              "      <td>15.770</td>\n",
              "    </tr>\n",
              "    <tr>\n",
              "      <th>2879</th>\n",
              "      <td>1</td>\n",
              "      <td>0</td>\n",
              "      <td>0</td>\n",
              "      <td>0</td>\n",
              "      <td>7.652707</td>\n",
              "      <td>6.540000e-05</td>\n",
              "      <td>-6.540000e-05</td>\n",
              "      <td>134.460380</td>\n",
              "      <td>0.006190</td>\n",
              "      <td>-0.006190</td>\n",
              "      <td>0.970</td>\n",
              "      <td>0.879</td>\n",
              "      <td>-0.942</td>\n",
              "      <td>79.89690</td>\n",
              "      <td>0.0000</td>\n",
              "      <td>0.0000</td>\n",
              "      <td>641.1</td>\n",
              "      <td>42.9</td>\n",
              "      <td>-42.9</td>\n",
              "      <td>3.21</td>\n",
              "      <td>0.97</td>\n",
              "      <td>-0.32</td>\n",
              "      <td>989</td>\n",
              "      <td>226.81</td>\n",
              "      <td>195.16</td>\n",
              "      <td>-64.34</td>\n",
              "      <td>254.3</td>\n",
              "      <td>1</td>\n",
              "      <td>6328</td>\n",
              "      <td>151</td>\n",
              "      <td>-189</td>\n",
              "      <td>4.481</td>\n",
              "      <td>0.050</td>\n",
              "      <td>-0.200</td>\n",
              "      <td>0.963</td>\n",
              "      <td>0.290</td>\n",
              "      <td>-0.097</td>\n",
              "      <td>295.50211</td>\n",
              "      <td>38.983540</td>\n",
              "      <td>13.099</td>\n",
              "    </tr>\n",
              "    <tr>\n",
              "      <th>107</th>\n",
              "      <td>0</td>\n",
              "      <td>0</td>\n",
              "      <td>0</td>\n",
              "      <td>0</td>\n",
              "      <td>7.953547</td>\n",
              "      <td>1.910000e-05</td>\n",
              "      <td>-1.910000e-05</td>\n",
              "      <td>174.662240</td>\n",
              "      <td>0.001820</td>\n",
              "      <td>-0.001820</td>\n",
              "      <td>0.300</td>\n",
              "      <td>0.145</td>\n",
              "      <td>-0.300</td>\n",
              "      <td>2.63120</td>\n",
              "      <td>0.0595</td>\n",
              "      <td>-0.0595</td>\n",
              "      <td>875.4</td>\n",
              "      <td>25.3</td>\n",
              "      <td>-25.3</td>\n",
              "      <td>2.25</td>\n",
              "      <td>0.07</td>\n",
              "      <td>-0.14</td>\n",
              "      <td>696</td>\n",
              "      <td>55.37</td>\n",
              "      <td>7.15</td>\n",
              "      <td>-10.12</td>\n",
              "      <td>38.4</td>\n",
              "      <td>1</td>\n",
              "      <td>4768</td>\n",
              "      <td>76</td>\n",
              "      <td>-85</td>\n",
              "      <td>4.536</td>\n",
              "      <td>0.056</td>\n",
              "      <td>-0.016</td>\n",
              "      <td>0.779</td>\n",
              "      <td>0.023</td>\n",
              "      <td>-0.049</td>\n",
              "      <td>291.15878</td>\n",
              "      <td>40.750271</td>\n",
              "      <td>15.660</td>\n",
              "    </tr>\n",
              "    <tr>\n",
              "      <th>29</th>\n",
              "      <td>0</td>\n",
              "      <td>0</td>\n",
              "      <td>0</td>\n",
              "      <td>0</td>\n",
              "      <td>4.959319</td>\n",
              "      <td>5.150000e-07</td>\n",
              "      <td>-5.150000e-07</td>\n",
              "      <td>172.258529</td>\n",
              "      <td>0.000083</td>\n",
              "      <td>-0.000083</td>\n",
              "      <td>0.831</td>\n",
              "      <td>0.016</td>\n",
              "      <td>-0.004</td>\n",
              "      <td>2.22739</td>\n",
              "      <td>0.0075</td>\n",
              "      <td>-0.0075</td>\n",
              "      <td>9802.0</td>\n",
              "      <td>20.0</td>\n",
              "      <td>-20.0</td>\n",
              "      <td>12.21</td>\n",
              "      <td>1.96</td>\n",
              "      <td>-1.46</td>\n",
              "      <td>1103</td>\n",
              "      <td>349.40</td>\n",
              "      <td>146.52</td>\n",
              "      <td>-93.21</td>\n",
              "      <td>696.5</td>\n",
              "      <td>1</td>\n",
              "      <td>5712</td>\n",
              "      <td>77</td>\n",
              "      <td>-77</td>\n",
              "      <td>4.359</td>\n",
              "      <td>0.110</td>\n",
              "      <td>-0.110</td>\n",
              "      <td>1.082</td>\n",
              "      <td>0.173</td>\n",
              "      <td>-0.130</td>\n",
              "      <td>292.16705</td>\n",
              "      <td>48.727589</td>\n",
              "      <td>15.263</td>\n",
              "    </tr>\n",
              "  </tbody>\n",
              "</table>\n",
              "</div>"
            ],
            "text/plain": [
              "      koi_fpflag_nt  koi_fpflag_ss  ...        dec  koi_kepmag\n",
              "6122              0              0  ...  39.351681      14.725\n",
              "6370              0              1  ...  42.463860      15.770\n",
              "2879              1              0  ...  38.983540      13.099\n",
              "107               0              0  ...  40.750271      15.660\n",
              "29                0              0  ...  48.727589      15.263\n",
              "\n",
              "[5 rows x 40 columns]"
            ]
          },
          "metadata": {
            "tags": []
          },
          "execution_count": 11
        }
      ]
    },
    {
      "cell_type": "markdown",
      "metadata": {
        "id": "j4Nuggx2C4Lp"
      },
      "source": [
        "# Pre-processing\n",
        "\n",
        "Scale the data using the MinMaxScaler and perform some feature selection"
      ]
    },
    {
      "cell_type": "code",
      "metadata": {
        "id": "kOgfAXJuC4Lp"
      },
      "source": [
        "# Scale your data\r\n",
        "\r\n",
        "X_scaler = MinMaxScaler().fit(X_train)\r\n",
        "X_train_scaled = X_scaler.transform(X_train)\r\n",
        "X_test_scaled = X_scaler.transform(X_test)"
      ],
      "execution_count": 12,
      "outputs": []
    },
    {
      "cell_type": "markdown",
      "metadata": {
        "id": "VHHL7MCUC4Lp"
      },
      "source": [
        "# Train the Model\n",
        "\n"
      ]
    },
    {
      "cell_type": "code",
      "metadata": {
        "colab": {
          "base_uri": "https://localhost:8080/"
        },
        "id": "G5Rx7t90C4Lp",
        "outputId": "aae1e784-5ff6-4b3a-e3a5-fc2835e64256"
      },
      "source": [
        "model = LogisticRegression()\n",
        "model.fit(X_train_scaled, y_train)\n",
        "\n",
        "model_training_score = round(model.score(X_train_scaled, y_train)*100,3)\n",
        "base_accuracy = round(model.score(X_test_scaled, y_test)*100,3)\n",
        "\n",
        "\n",
        "print(f\"Training Data Score: {model_training_score} %\")\n",
        "print(f\"Testing Data Score: {base_accuracy} %\")"
      ],
      "execution_count": 16,
      "outputs": [
        {
          "output_type": "stream",
          "text": [
            "Training Data Score: 85.066 %\n",
            "Testing Data Score: 84.268 %\n"
          ],
          "name": "stdout"
        },
        {
          "output_type": "stream",
          "text": [
            "/usr/local/lib/python3.7/dist-packages/sklearn/linear_model/_logistic.py:940: ConvergenceWarning: lbfgs failed to converge (status=1):\n",
            "STOP: TOTAL NO. of ITERATIONS REACHED LIMIT.\n",
            "\n",
            "Increase the number of iterations (max_iter) or scale the data as shown in:\n",
            "    https://scikit-learn.org/stable/modules/preprocessing.html\n",
            "Please also refer to the documentation for alternative solver options:\n",
            "    https://scikit-learn.org/stable/modules/linear_model.html#logistic-regression\n",
            "  extra_warning_msg=_LOGISTIC_SOLVER_CONVERGENCE_MSG)\n"
          ],
          "name": "stderr"
        }
      ]
    },
    {
      "cell_type": "markdown",
      "metadata": {
        "id": "Ed8jDCsqC4Lq"
      },
      "source": [
        "# Hyperparameter Tuning\n",
        "\n",
        "Use `GridSearchCV` to tune the model's parameters"
      ]
    },
    {
      "cell_type": "code",
      "metadata": {
        "id": "QdkM8o0dC4Lq"
      },
      "source": [
        "# Create the GridSearchCV model"
      ],
      "execution_count": null,
      "outputs": []
    },
    {
      "cell_type": "code",
      "metadata": {
        "id": "yoUk-6pUC4Lq"
      },
      "source": [
        "# Train the model with GridSearch"
      ],
      "execution_count": null,
      "outputs": []
    },
    {
      "cell_type": "code",
      "metadata": {
        "id": "uKe8SsbdC4Lq"
      },
      "source": [
        "print(grid2.best_params_)\n",
        "print(grid2.best_score_)"
      ],
      "execution_count": null,
      "outputs": []
    },
    {
      "cell_type": "markdown",
      "metadata": {
        "id": "Eq1X3nS6C4Lr"
      },
      "source": [
        "# Save the Model"
      ]
    },
    {
      "cell_type": "code",
      "metadata": {
        "id": "mw6I8helC4Lr"
      },
      "source": [
        "# save your model by updating \"your_name\" with your name\n",
        "# and \"your_model\" with your model variable\n",
        "# be sure to turn this in to BCS\n",
        "# if joblib fails to import, try running the command to install in terminal/git-bash\n",
        "import joblib\n",
        "filename = 'your_name.sav'\n",
        "joblib.dump(your_model, filename)"
      ],
      "execution_count": null,
      "outputs": []
    }
  ]
}